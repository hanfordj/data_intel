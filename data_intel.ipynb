{
 "cells": [
  {
   "cell_type": "markdown",
   "metadata": {
    "deletable": true,
    "editable": true
   },
   "source": [
    "## GDAL/OGR"
   ]
  },
  {
   "cell_type": "code",
   "execution_count": 1,
   "metadata": {
    "collapsed": false,
    "deletable": true,
    "editable": true
   },
   "outputs": [
    {
     "name": "stdout",
     "output_type": "stream",
     "text": [
      "2010300\n"
     ]
    }
   ],
   "source": [
    "# GDAL and OGR are in the osgeo package\n",
    "from osgeo import ogr, gdal\n",
    "# Check GDAL version\n",
    "print(gdal.VersionInfo('VERSION_NUM'))"
   ]
  },
  {
   "cell_type": "code",
   "execution_count": 2,
   "metadata": {
    "collapsed": false,
    "deletable": true,
    "editable": true
   },
   "outputs": [
    {
     "name": "stdout",
     "output_type": "stream",
     "text": [
      "POLYGON ((0 0 0,0 10 0,10 10 0,10 0 0))\n"
     ]
    }
   ],
   "source": [
    "# Create a polygon geometry\n",
    "ring = ogr.Geometry(ogr.wkbLinearRing)\n",
    "ring.AddPoint(0.0, 0.0)\n",
    "ring.AddPoint(0.0,10.0)\n",
    "ring.AddPoint(10.0,10.0)\n",
    "ring.AddPoint(10.0,0.0)\n",
    "\n",
    "poly = ogr.Geometry(ogr.wkbPolygon)\n",
    "poly.AddGeometry(ring)\n",
    "print(poly.ExportToWkt())"
   ]
  },
  {
   "cell_type": "code",
   "execution_count": 3,
   "metadata": {
    "collapsed": false,
    "deletable": true,
    "editable": true
   },
   "outputs": [
    {
     "name": "stdout",
     "output_type": "stream",
     "text": [
      "0). POINT (0 0)\n",
      "1). POINT (0 10)\n",
      "2). POINT (10 10)\n",
      "3). POINT (10 0)\n"
     ]
    }
   ],
   "source": [
    "# Iterate over Points in a Polygon\n",
    "for ring in poly:\n",
    "    for point in range(0, ring.GetPointCount()):\n",
    "        # GetPoint returns a tuple not a Geometry\n",
    "        pt = ring.GetPoint(point)\n",
    "        print(\"%i). POINT (%d %d)\" %(point, pt[0], pt[1]))"
   ]
  },
  {
   "cell_type": "code",
   "execution_count": 17,
   "metadata": {
    "collapsed": false,
    "deletable": true,
    "editable": true
   },
   "outputs": [
    {
     "name": "stdout",
     "output_type": "stream",
     "text": [
      "{ \"type\": \"Polygon\", \"coordinates\": [ [ [ 0.0, 0.0, 0.0 ], [ 0.0, 10.0, 0.0 ], [ 10.0, 10.0, 0.0 ], [ 10.0, 0.0, 0.0 ] ] ] }\n"
     ]
    }
   ],
   "source": [
    "# Write a geometry to file\n",
    "geojson = poly.ExportToJson()\n",
    "print(geojson)"
   ]
  },
  {
   "cell_type": "markdown",
   "metadata": {
    "deletable": true,
    "editable": true
   },
   "source": [
    "## Geospatial Data Formats"
   ]
  },
  {
   "cell_type": "code",
   "execution_count": 5,
   "metadata": {
    "collapsed": false,
    "deletable": true,
    "editable": true
   },
   "outputs": [
    {
     "data": {
      "text/html": [
       "<div>\n",
       "<table border=\"1\" class=\"dataframe\">\n",
       "  <thead>\n",
       "    <tr style=\"text-align: right;\">\n",
       "      <th></th>\n",
       "      <th>ABOVE_POV</th>\n",
       "      <th>ABVE_BELW</th>\n",
       "      <th>ACRES</th>\n",
       "      <th>AGE_18_21</th>\n",
       "      <th>AGE_22_29</th>\n",
       "      <th>AGE_30_39</th>\n",
       "      <th>AGE_40_49</th>\n",
       "      <th>AGE_50_64</th>\n",
       "      <th>AGE_5_17</th>\n",
       "      <th>AGE_65_74</th>\n",
       "      <th>...</th>\n",
       "      <th>VACANT</th>\n",
       "      <th>VEHICLE5G</th>\n",
       "      <th>VEHICLE_0</th>\n",
       "      <th>VEHICLE_1</th>\n",
       "      <th>VEHICLE_2</th>\n",
       "      <th>VEHICLE_3</th>\n",
       "      <th>VEHICLE_4</th>\n",
       "      <th>WHITE</th>\n",
       "      <th>WHITE_NH</th>\n",
       "      <th>geometry</th>\n",
       "    </tr>\n",
       "  </thead>\n",
       "  <tbody>\n",
       "    <tr>\n",
       "      <th>0</th>\n",
       "      <td>963</td>\n",
       "      <td>1054</td>\n",
       "      <td>527.425717</td>\n",
       "      <td>38</td>\n",
       "      <td>44</td>\n",
       "      <td>111</td>\n",
       "      <td>247</td>\n",
       "      <td>225</td>\n",
       "      <td>215</td>\n",
       "      <td>69</td>\n",
       "      <td>...</td>\n",
       "      <td>97</td>\n",
       "      <td>0</td>\n",
       "      <td>7</td>\n",
       "      <td>165</td>\n",
       "      <td>209</td>\n",
       "      <td>30</td>\n",
       "      <td>12</td>\n",
       "      <td>1001</td>\n",
       "      <td>942</td>\n",
       "      <td>POLYGON ((-82.60077664328101 27.81145058880528...</td>\n",
       "    </tr>\n",
       "    <tr>\n",
       "      <th>1</th>\n",
       "      <td>486</td>\n",
       "      <td>552</td>\n",
       "      <td>60.386076</td>\n",
       "      <td>0</td>\n",
       "      <td>90</td>\n",
       "      <td>147</td>\n",
       "      <td>61</td>\n",
       "      <td>128</td>\n",
       "      <td>15</td>\n",
       "      <td>48</td>\n",
       "      <td>...</td>\n",
       "      <td>0</td>\n",
       "      <td>0</td>\n",
       "      <td>0</td>\n",
       "      <td>159</td>\n",
       "      <td>96</td>\n",
       "      <td>21</td>\n",
       "      <td>0</td>\n",
       "      <td>552</td>\n",
       "      <td>389</td>\n",
       "      <td>POLYGON ((-82.63449862724356 27.81760050916512...</td>\n",
       "    </tr>\n",
       "    <tr>\n",
       "      <th>2</th>\n",
       "      <td>1191</td>\n",
       "      <td>1287</td>\n",
       "      <td>149.668086</td>\n",
       "      <td>81</td>\n",
       "      <td>87</td>\n",
       "      <td>98</td>\n",
       "      <td>207</td>\n",
       "      <td>379</td>\n",
       "      <td>177</td>\n",
       "      <td>161</td>\n",
       "      <td>...</td>\n",
       "      <td>44</td>\n",
       "      <td>0</td>\n",
       "      <td>0</td>\n",
       "      <td>292</td>\n",
       "      <td>226</td>\n",
       "      <td>52</td>\n",
       "      <td>0</td>\n",
       "      <td>1231</td>\n",
       "      <td>1154</td>\n",
       "      <td>POLYGON ((-82.6446266003387 27.80668249858481,...</td>\n",
       "    </tr>\n",
       "  </tbody>\n",
       "</table>\n",
       "<p>3 rows × 205 columns</p>\n",
       "</div>"
      ],
      "text/plain": [
       "   ABOVE_POV  ABVE_BELW       ACRES  AGE_18_21  AGE_22_29  AGE_30_39  \\\n",
       "0        963       1054  527.425717         38         44        111   \n",
       "1        486        552   60.386076          0         90        147   \n",
       "2       1191       1287  149.668086         81         87         98   \n",
       "\n",
       "   AGE_40_49  AGE_50_64  AGE_5_17  AGE_65_74  \\\n",
       "0        247        225       215         69   \n",
       "1         61        128        15         48   \n",
       "2        207        379       177        161   \n",
       "\n",
       "                         ...                          VACANT  VEHICLE5G  \\\n",
       "0                        ...                              97          0   \n",
       "1                        ...                               0          0   \n",
       "2                        ...                              44          0   \n",
       "\n",
       "   VEHICLE_0  VEHICLE_1  VEHICLE_2  VEHICLE_3  VEHICLE_4  WHITE  WHITE_NH  \\\n",
       "0          7        165        209         30         12   1001       942   \n",
       "1          0        159         96         21          0    552       389   \n",
       "2          0        292        226         52          0   1231      1154   \n",
       "\n",
       "                                            geometry  \n",
       "0  POLYGON ((-82.60077664328101 27.81145058880528...  \n",
       "1  POLYGON ((-82.63449862724356 27.81760050916512...  \n",
       "2  POLYGON ((-82.6446266003387 27.80668249858481,...  \n",
       "\n",
       "[3 rows x 205 columns]"
      ]
     },
     "execution_count": 5,
     "metadata": {},
     "output_type": "execute_result"
    }
   ],
   "source": [
    "# Import geopandas and read in a shapefile\n",
    "import geopandas as gpd\n",
    "%matplotlib inline\n",
    "block_groups = gpd.read_file(\"./data/census/stpete_cenacs_2015.shp\")\n",
    "block_groups.head(3)"
   ]
  },
  {
   "cell_type": "code",
   "execution_count": 6,
   "metadata": {
    "collapsed": false,
    "deletable": true,
    "editable": true
   },
   "outputs": [
    {
     "data": {
      "text/plain": [
       "ABOVE_POV       int64\n",
       "ABVE_BELW       int64\n",
       "ACRES         float64\n",
       "AGE_18_21       int64\n",
       "AGE_22_29       int64\n",
       "AGE_30_39       int64\n",
       "AGE_40_49       int64\n",
       "AGE_50_64       int64\n",
       "AGE_5_17        int64\n",
       "AGE_65_74       int64\n",
       "AGE_65_UP       int64\n",
       "AGE_75_84       int64\n",
       "AGE_85_UP       int64\n",
       "AGE_UNDER5      int64\n",
       "ALAND         float64\n",
       "AMERI_ES        int64\n",
       "ASIAN           int64\n",
       "AVE_FAM_SZ    float64\n",
       "AVE_HH_SZ     float64\n",
       "AWATER        float64\n",
       "B00_09          int64\n",
       "B10_13          int64\n",
       "B14_15          int64\n",
       "B40_49          int64\n",
       "B50_59          int64\n",
       "B60_69          int64\n",
       "B70_79          int64\n",
       "B80_89          int64\n",
       "B90_99          int64\n",
       "BACHELORS       int64\n",
       "               ...   \n",
       "S_ENGLISH       int64\n",
       "S_EUROPE        int64\n",
       "S_NOTATALL      int64\n",
       "S_NOTWELL       int64\n",
       "S_OTHER         int64\n",
       "S_SPANISH       int64\n",
       "S_TOTAL         int64\n",
       "S_VERYWELL      int64\n",
       "S_WELL          int64\n",
       "TIGERYEAR      object\n",
       "TOTALPOP        int64\n",
       "TRACTCE10      object\n",
       "TRAN_BIKE       int64\n",
       "TRAN_CAR        int64\n",
       "TRAN_HOME       int64\n",
       "TRAN_MOTO       int64\n",
       "TRAN_OTHER      int64\n",
       "TRAN_PUB        int64\n",
       "TRAN_TOTAL      int64\n",
       "TRAN_WALK       int64\n",
       "VACANT          int64\n",
       "VEHICLE5G       int64\n",
       "VEHICLE_0       int64\n",
       "VEHICLE_1       int64\n",
       "VEHICLE_2       int64\n",
       "VEHICLE_3       int64\n",
       "VEHICLE_4       int64\n",
       "WHITE           int64\n",
       "WHITE_NH        int64\n",
       "geometry       object\n",
       "dtype: object"
      ]
     },
     "execution_count": 6,
     "metadata": {},
     "output_type": "execute_result"
    }
   ],
   "source": [
    "# Check the feature types in the geodataframe\n",
    "block_groups.dtypes"
   ]
  },
  {
   "cell_type": "code",
   "execution_count": 18,
   "metadata": {
    "collapsed": false,
    "deletable": true,
    "editable": true
   },
   "outputs": [
    {
     "data": {
      "text/plain": [
       "<matplotlib.axes._subplots.AxesSubplot at 0x7f18be27b358>"
      ]
     },
     "execution_count": 18,
     "metadata": {},
     "output_type": "execute_result"
    },
    {
     "data": {
      "image/png": "[encoded data removed]",
      "text/plain": [
       "<matplotlib.figure.Figure at 0x7f18d30bac18>"
      ]
     },
     "metadata": {},
     "output_type": "display_data"
    }
   ],
   "source": [
    "block_groups.plot()"
   ]
  },
  {
   "cell_type": "markdown",
   "metadata": {
    "deletable": true,
    "editable": true
   },
   "source": [
    "## PySAL"
   ]
  },
  {
   "cell_type": "code",
   "execution_count": 8,
   "metadata": {
    "collapsed": false,
    "deletable": true,
    "editable": true
   },
   "outputs": [
    {
     "data": {
      "text/plain": [
       "231"
      ]
     },
     "execution_count": 8,
     "metadata": {},
     "output_type": "execute_result"
    }
   ],
   "source": [
    "# Read a shapefile with PySAL\n",
    "import pysal\n",
    "# pysal.open.check()\n",
    "shp = pysal.open('./data/census/stpete_cenacs_2015.shp')\n",
    "len(shp)"
   ]
  },
  {
   "cell_type": "code",
   "execution_count": 9,
   "metadata": {
    "collapsed": false,
    "deletable": true,
    "editable": true
   },
   "outputs": [
    {
     "data": {
      "text/plain": [
       "[1, 2, 3, 6, 10, 14]"
      ]
     },
     "execution_count": 9,
     "metadata": {},
     "output_type": "execute_result"
    }
   ],
   "source": [
    "# Create a weights matrix with rook contiguity from a shapefile\n",
    "w = pysal.rook_from_shapefile(\"./data/census/stpete_cenacs_2015.shp\")\n",
    "w.weights[0]\n",
    "w.neighbors[5]"
   ]
  },
  {
   "cell_type": "code",
   "execution_count": 10,
   "metadata": {
    "collapsed": false,
    "deletable": true,
    "editable": true
   },
   "outputs": [
    {
     "data": {
      "text/plain": [
       "[(1, 1),\n",
       " (2, 2),\n",
       " (3, 10),\n",
       " (4, 20),\n",
       " (5, 48),\n",
       " (6, 57),\n",
       " (7, 58),\n",
       " (8, 21),\n",
       " (9, 8),\n",
       " (10, 2),\n",
       " (11, 2),\n",
       " (12, 0),\n",
       " (13, 0),\n",
       " (14, 1),\n",
       " (15, 0),\n",
       " (16, 0),\n",
       " (17, 1)]"
      ]
     },
     "execution_count": 10,
     "metadata": {},
     "output_type": "execute_result"
    }
   ],
   "source": [
    "# Create a weights matrix with queen contiguity from a shapefile\n",
    "w = pysal.queen_from_shapefile(\"./data/census/stpete_cenacs_2015.shp\")\n",
    "w.histogram"
   ]
  },
  {
   "cell_type": "code",
   "execution_count": 11,
   "metadata": {
    "collapsed": true,
    "deletable": true,
    "editable": true
   },
   "outputs": [],
   "source": [
    "# Export a W as a .gal file\n",
    "gal = pysal.open('./data/census/stpete_cenacs_2015.gal','w')\n",
    "gal.write(w)\n",
    "gal.close()"
   ]
  },
  {
   "cell_type": "code",
   "execution_count": 12,
   "metadata": {
    "collapsed": false,
    "deletable": true,
    "editable": true
   },
   "outputs": [
    {
     "data": {
      "text/plain": [
       "[(6, 2),\n",
       " (7, 4),\n",
       " (8, 1),\n",
       " (9, 4),\n",
       " (10, 3),\n",
       " (11, 5),\n",
       " (12, 3),\n",
       " (13, 5),\n",
       " (14, 2),\n",
       " (15, 1),\n",
       " (16, 5),\n",
       " (17, 5),\n",
       " (18, 6),\n",
       " (19, 3),\n",
       " (20, 6),\n",
       " (21, 7),\n",
       " (22, 7),\n",
       " (23, 14),\n",
       " (24, 9),\n",
       " (25, 10),\n",
       " (26, 6),\n",
       " (27, 6),\n",
       " (28, 10),\n",
       " (29, 7),\n",
       " (30, 10),\n",
       " (31, 7),\n",
       " (32, 4),\n",
       " (33, 4),\n",
       " (34, 10),\n",
       " (35, 9),\n",
       " (36, 5),\n",
       " (37, 8),\n",
       " (38, 3),\n",
       " (39, 2),\n",
       " (40, 2),\n",
       " (41, 4),\n",
       " (42, 4),\n",
       " (43, 7),\n",
       " (44, 3),\n",
       " (45, 5),\n",
       " (46, 3),\n",
       " (47, 5),\n",
       " (48, 0),\n",
       " (49, 2),\n",
       " (50, 3)]"
      ]
     },
     "execution_count": 12,
     "metadata": {},
     "output_type": "execute_result"
    }
   ],
   "source": [
    "# Create a higher order weights matrix from an existing W\n",
    "# Issues ceating this without reading directly from the .gal\n",
    "w = pysal.weights.Queen.from_file('./data/census/stpete_cenacs_2015.gal')\n",
    "w2 = pysal.higher_order(w, 4)\n",
    "w2.histogram"
   ]
  },
  {
   "cell_type": "code",
   "execution_count": 13,
   "metadata": {
    "collapsed": false,
    "deletable": true,
    "editable": true
   },
   "outputs": [
    {
     "data": {
      "text/plain": [
       "array([  526135.,   233965.,   275383.,   375029.,   287964.,   423450.,\n",
       "         263165.,   247640.,   210497.,   270351.,   344603.,   331851.,\n",
       "         336902.,   300853.,   274127.,   228833.,   289431.,   135777.,\n",
       "         377851.,   321967.,   413276.,   348732.,   255116.,   337399.,\n",
       "         255593.,   411820.,   420203.,   399202.,   342894.,   488076.,\n",
       "         393826.,   228450.,   372177.,   332736.,   232078.,   502282.,\n",
       "         149555.,   483465.,   185496.,   412462.,   251819.,   305925.,\n",
       "         322775.,   207482.,  1187391.,   176068.,    46765.,   420611.,\n",
       "         209844.,   232717.,   163337.,   196814.,   135316.,   368255.,\n",
       "         170266.,   198499.,   132426.,   208330.,   221998.,   181924.,\n",
       "         442427.,    96957.,   153638.,   455600.,   573338.,   317967.,\n",
       "         347957.,   235340.,   404991.,   389061.,   443302.,   393004.,\n",
       "         118735.,   631616.,   283565.,   264506.,   251256.,   368086.,\n",
       "         268564.,   283998.,   255837.,   319642.,   256736.,   262843.,\n",
       "         377638.,   226322.,   224543.,   286938.,   316284.,   182381.,\n",
       "         353174.,   422630.,   164529.,   241196.,   244870.,   218145.,\n",
       "         176779.,   146777.,   274515.,   118978.,   223443.,   166955.,\n",
       "         184953.,   193834.,   213911.,   220028.,   203623.,   235774.,\n",
       "         237872.,   179910.,   156888.,   228157.,   228859.,   167025.,\n",
       "         154194.,   144308.,   132266.,    81604.,   123545.,   183827.,\n",
       "         135065.,    82883.,   155281.,   170096.,   275324.,   162955.,\n",
       "         167682.,   203947.,   105153.,   122439.,   138429.,   244178.,\n",
       "         231255.,   187478.,   171845.,   229986.,   258796.,   293073.,\n",
       "         181106.,   126903.,   249919.,   188733.,   104948.,   303537.,\n",
       "         264311.,   108888.,   136180.,   120995.,   303974.,   281069.,\n",
       "         208627.,   274140.,   244215.,   239958.,   403565.,   385962.,\n",
       "         238966.,   358705.,   362781.,   280638.,   480281.,   330186.,\n",
       "         329086.,   422676.,   205012.,   239450.,   453527.,   154793.,\n",
       "         329011.,   426018.,   440913.,   195110.,   242961.,   415560.,\n",
       "         269036.,   369425.,   331687.,   337321.,   279417.,   235814.,\n",
       "         263777.,   474883.,   289159.,   298005.,   280360.,   280737.,\n",
       "         205945.,   314476.,   355598.,   307494.,   280056.,   436081.,\n",
       "         480648.,   203797.,   386562.,   157610.,   269525.,   216232.,\n",
       "         292484.,   316867.,   310923.,   326285.,   283626.,   210853.,\n",
       "         234533.,   315905.,   145055.,   131167.,   329575.,   430145.,\n",
       "         305825.,   158110.,   290505.,   189536.,   324203.,   288347.,\n",
       "         492453.,   388989.,   527316.,   378647.,   385191.,   446658.,\n",
       "         393855.,   619867.,   482695.,   346752.,   473087.,   578848.,\n",
       "         431955.,   232413.,   316331.])"
      ]
     },
     "execution_count": 13,
     "metadata": {},
     "output_type": "execute_result"
    }
   ],
   "source": [
    "# Calculate the spatial lag for Median household income\n",
    "# Binary weights matrix will produce cumulative weights of neighborhood values\n",
    "import numpy as np\n",
    "f = pysal.open(\"./data/census/stpete_cenacs_2015.dbf\")\n",
    "f.header\n",
    "y = np.array(f.by_col['MEDHHINC'])\n",
    "yl = pysal.lag_spatial(w,y)\n",
    "yl"
   ]
  },
  {
   "cell_type": "code",
   "execution_count": 14,
   "metadata": {
    "collapsed": false,
    "deletable": true,
    "editable": true
   },
   "outputs": [
    {
     "data": {
      "text/plain": [
       "array([  75162.14285714,   46793.        ,   45897.16666667,\n",
       "         53575.57142857,   57592.8       ,   47050.        ,\n",
       "         37595.        ,   41273.33333333,   42099.4       ,\n",
       "         45058.5       ,   49229.        ,   47407.28571429,\n",
       "         48128.85714286,   50142.16666667,   45687.83333333,\n",
       "        114416.5       ,   48238.5       ,   45259.        ,\n",
       "         53978.71428571,   45995.28571429,   51659.5       ,\n",
       "         49818.85714286,   42519.33333333,   48199.85714286,\n",
       "         51118.6       ,   68636.66666667,   60029.        ,\n",
       "         49900.25      ,   68578.8       ,   81346.        ,\n",
       "         49228.25      ,   45690.        ,   33834.27272727,\n",
       "         47533.71428571,   33154.        ,   71754.57142857,\n",
       "         29911.        ,   60433.125     ,   26499.42857143,\n",
       "         68743.66666667,   25181.9       ,   50987.5       ,\n",
       "         53795.83333333,   51870.5       ,   69846.52941176,\n",
       "         44017.        ,   46765.        ,   46734.55555556,\n",
       "         41968.8       ,   58179.25      ,   81668.5       ,\n",
       "         49203.5       ,   45105.33333333,   52607.85714286,\n",
       "         42566.5       ,   39699.8       ,   44142.        ,\n",
       "         52082.5       ,   55499.5       ,   36384.8       ,\n",
       "         55303.375     ,   32319.        ,   25606.33333333,\n",
       "         65085.71428571,   81905.42857143,   52994.5       ,\n",
       "         69591.4       ,   78446.66666667,   67498.5       ,\n",
       "         64843.5       ,   73883.66666667,   78600.8       ,\n",
       "         39578.33333333,   45115.42857143,   47260.83333333,\n",
       "         37786.57142857,   50251.2       ,   61347.66666667,\n",
       "         44760.66666667,   47333.        ,   42639.5       ,\n",
       "         53273.66666667,   42789.33333333,   43807.16666667,\n",
       "         53948.28571429,   37720.33333333,   44908.6       ,\n",
       "         40991.14285714,   45183.42857143,   36476.2       ,\n",
       "         44146.75      ,   52828.75      ,   54843.        ,\n",
       "         48239.2       ,   40811.66666667,   54536.25      ,\n",
       "         35355.8       ,   48925.66666667,   39216.42857143,\n",
       "         29744.5       ,   27930.375     ,   27825.83333333,\n",
       "         30825.5       ,   32305.66666667,   35651.83333333,\n",
       "         31432.57142857,   29089.        ,   47154.8       ,\n",
       "         33981.71428571,   44977.5       ,   26148.        ,\n",
       "         45631.4       ,   45771.8       ,   27837.5       ,\n",
       "         25699.        ,   24051.33333333,   22044.33333333,\n",
       "         20401.        ,   24709.        ,   26261.        ,\n",
       "         27013.        ,   27627.66666667,   22183.        ,\n",
       "         28349.33333333,   39332.        ,   23279.28571429,\n",
       "         33536.4       ,   22660.77777778,   26288.25      ,\n",
       "         24487.8       ,   34607.25      ,   30522.25      ,\n",
       "         38542.5       ,   37495.6       ,   28640.83333333,\n",
       "         38331.        ,   51759.2       ,   32563.66666667,\n",
       "         25872.28571429,   25380.6       ,   41653.16666667,\n",
       "         26961.85714286,   20989.6       ,   43362.42857143,\n",
       "         37758.71428571,   27222.        ,   22696.66666667,\n",
       "         24199.        ,   43424.85714286,   40152.71428571,\n",
       "         34771.16666667,   39162.85714286,   48843.        ,\n",
       "         59989.5       ,   57652.14285714,   55137.42857143,\n",
       "         39827.66666667,   44838.125     ,   72556.2       ,\n",
       "         56127.6       ,   68611.57142857,   55031.        ,\n",
       "         47012.28571429,   60382.28571429,   51253.        ,\n",
       "         47890.        ,   64789.57142857,   51597.66666667,\n",
       "         47001.57142857,   53252.25      ,   55114.125     ,\n",
       "         39022.        ,   48592.2       ,   46173.33333333,\n",
       "         53807.2       ,   52775.        ,   47383.85714286,\n",
       "         42165.125     ,   55883.4       ,   39302.33333333,\n",
       "         52755.4       ,   52764.77777778,   57831.8       ,\n",
       "         42572.14285714,   40051.42857143,   46789.5       ,\n",
       "         41189.        ,   52412.66666667,   50799.71428571,\n",
       "         43927.71428571,   56011.2       ,   54510.125     ,\n",
       "         43695.27272727,   29113.85714286,   42951.33333333,\n",
       "         39402.5       ,   44920.83333333,   36038.66666667,\n",
       "         36560.5       ,   39608.375     ,   44417.57142857,\n",
       "         46612.14285714,   47271.        ,   35142.16666667,\n",
       "         39088.83333333,   39488.125     ,   29011.        ,\n",
       "         26233.4       ,   32957.5       ,   47793.88888889,\n",
       "         43689.28571429,   22587.14285714,   58101.        ,\n",
       "         37907.2       ,   64840.6       ,   72086.75      ,\n",
       "         61556.625     ,   77797.8       ,   75330.85714286,\n",
       "         47330.875     ,   55027.28571429,   63808.28571429,\n",
       "         78771.        ,   77483.375     ,   80449.16666667,\n",
       "         57792.        ,   59135.875     ,   96474.66666667,\n",
       "         71992.5       ,   58103.25      ,   79082.75      ])"
      ]
     },
     "execution_count": 14,
     "metadata": {},
     "output_type": "execute_result"
    }
   ],
   "source": [
    "# Calculate spatial lag with a row standardized W\n",
    "# Spatial lag variable represents a weighted average\n",
    "w.transform = 'r'\n",
    "yr = pysal.lag_spatial(w,y)\n",
    "yr"
   ]
  },
  {
   "cell_type": "code",
   "execution_count": 15,
   "metadata": {
    "collapsed": false
   },
   "outputs": [
    {
     "data": {
      "text/plain": [
       "0.28135221461193555"
      ]
     },
     "execution_count": 15,
     "metadata": {},
     "output_type": "execute_result"
    }
   ],
   "source": [
    "# Calculate Moran's I using a column and weights matrix\n",
    "w.transform = 'b'\n",
    "mi = pysal.Moran(y, w, two_tailed=False)\n",
    "mi.I"
   ]
  },
  {
   "cell_type": "code",
   "execution_count": 16,
   "metadata": {
    "collapsed": false
   },
   "outputs": [
    {
     "data": {
      "text/plain": [
       "0.0001"
      ]
     },
     "execution_count": 16,
     "metadata": {},
     "output_type": "execute_result"
    }
   ],
   "source": [
    "# Calculate the pseudo significance for the Moran's I value\n",
    "np.random.seed(12345)\n",
    "mir = pysal.Moran(y, w, permutations = 9999)\n",
    "mir.p_sim"
   ]
  },
  {
   "cell_type": "code",
   "execution_count": null,
   "metadata": {
    "collapsed": true
   },
   "outputs": [],
   "source": [
    "# Calculate LISA for a dataset\n",
    "lm = pysal.Moran_Local(y,w)\n",
    "lm.n\n",
    "len(lm.Is)\n",
    "lm.p_sim"
   ]
  }
 ],
 "metadata": {
  "kernelspec": {
   "display_name": "Python 3",
   "language": "python",
   "name": "python3"
  },
  "language_info": {
   "codemirror_mode": {
    "name": "ipython",
    "version": 3
   },
   "file_extension": ".py",
   "mimetype": "text/x-python",
   "name": "python",
   "nbconvert_exporter": "python",
   "pygments_lexer": "ipython3",
   "version": "3.5.3"
  }
 },
 "nbformat": 4,
 "nbformat_minor": 2
}
